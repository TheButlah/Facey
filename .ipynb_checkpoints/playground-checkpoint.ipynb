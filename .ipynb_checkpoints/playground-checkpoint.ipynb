{
 "cells": [
  {
   "cell_type": "code",
   "execution_count": 1,
   "metadata": {
    "collapsed": false,
    "deletable": true,
    "editable": true
   },
   "outputs": [
    {
     "name": "stdout",
     "output_type": "stream",
     "text": [
      "Vispy IPython module has loaded successfully"
     ]
    },
    {
     "name": "stderr",
     "output_type": "stream",
     "text": [
      "/home/ryan/anaconda3/envs/VolNet/lib/python3.6/site-packages/IPython/html.py:14: ShimWarning: The `IPython.html` package has been deprecated since IPython 4.0. You should import from `notebook` instead. `IPython.html.widgets` has moved to `ipywidgets`.\n",
      "  \"`IPython.html.widgets` has moved to `ipywidgets`.\", ShimWarning)\n",
      "/home/ryan/anaconda3/envs/VolNet/lib/python3.6/site-packages/IPython/utils/traitlets.py:5: UserWarning: IPython.utils.traitlets has moved to a top-level traitlets package.\n",
      "  warn(\"IPython.utils.traitlets has moved to a top-level traitlets package.\")\n"
     ]
    }
   ],
   "source": [
    "%matplotlib inline\n",
    "import numpy as np\n",
    "from scipy.io import loadmat\n",
    "import matplotlib.pyplot as plt\n",
    "import vispy\n",
    "import vispy.gloo as gloo\n",
    "from vispy import app\n",
    "from vispy.util.transforms import perspective, translate, rotate\n",
    "\n",
    "%load_ext vispy.ipython"
   ]
  },
  {
   "cell_type": "code",
   "execution_count": 2,
   "metadata": {
    "collapsed": false,
    "deletable": true,
    "editable": true
   },
   "outputs": [
    {
     "name": "stdout",
     "output_type": "stream",
     "text": [
      "{'__header__': b'MATLAB 5.0 MAT-file, Platform: PCWIN64, Created on: Sun Aug 09 15:03:57 2015', '__version__': '1.0', '__globals__': [], 'truth': array([[1],\n",
      "       [9],\n",
      "       [9],\n",
      "       ..., \n",
      "       [3],\n",
      "       [3],\n",
      "       [3]], dtype=uint8)} \n",
      "\n",
      "Shape:  (123397, 1)\n",
      "Platform: Linux-4.8.0-45-generic-x86_64-with-debian-stretch-sid\n",
      "Python:   3.6.1 |Continuum Analytics, Inc.| (default, Mar 22 2017, 19:54:23)  [GCC 4.4.7 20120313 (Red Hat 4.4.7-1)]\n",
      "Backend:  ipynb_webgl\n",
      "pyqt4:    None\n",
      "pyqt5:    ('PyQt5', '5.8.1', '5.8.0')\n",
      "pyside:   None\n",
      "pyglet:   None\n",
      "glfw:     glfw (3, 1, 2)\n",
      "sdl2:     None\n",
      "wx:       None\n",
      "egl:      EGL 1.4 (DRI2) Mesa Project: OpenGL OpenGL_ES\n",
      "osmesa:   None\n",
      "_test:    None\n",
      "\n",
      "GL version:  ''\n",
      "MAX_TEXTURE_SIZE: ()\n",
      "Extensions: ''\n",
      "\n",
      "Info-gathering error:\n",
      "Traceback (most recent call last):\n",
      "  File \"/home/ryan/anaconda3/envs/VolNet/lib/python3.6/site-packages/vispy-0.5.0.dev0-py3.6.egg/vispy/util/config.py\", line 435, in sys_info\n",
      "    canvas.close()\n",
      "  File \"/home/ryan/anaconda3/envs/VolNet/lib/python3.6/site-packages/vispy-0.5.0.dev0-py3.6.egg/vispy/app/canvas.py\", line 457, in close\n",
      "    self._backend._vispy_close()\n",
      "  File \"/home/ryan/anaconda3/envs/VolNet/lib/python3.6/site-packages/vispy-0.5.0.dev0-py3.6.egg/vispy/app/backends/_ipynb_webgl.py\", line 212, in _vispy_close\n",
      "    raise NotImplementedError()\n",
      "NotImplementedError\n",
      "\n"
     ]
    }
   ],
   "source": [
    "TEST_DIR = \"Data/velodyne/test/0000/\"\n",
    "file = loadmat(TEST_DIR + \"000000.mat\")\n",
    "print(file, \"\\n\")\n",
    "print(\"Shape: \", np.shape(file['truth']))\n",
    "\n",
    "print(vispy.sys_info())"
   ]
  },
  {
   "cell_type": "code",
   "execution_count": 3,
   "metadata": {
    "collapsed": true,
    "deletable": true,
    "editable": true
   },
   "outputs": [],
   "source": [
    "n = 100\n",
    "a_position = np.random.uniform(-1, 1, (n, 3)).astype(np.float32)\n",
    "a_id = np.random.randint(0, 30, (n, 1))\n",
    "a_id = np.sort(a_id, axis=0).astype(np.float32)"
   ]
  },
  {
   "cell_type": "code",
   "execution_count": 4,
   "metadata": {
    "collapsed": true,
    "deletable": true,
    "editable": true
   },
   "outputs": [],
   "source": [
    "VERT_SHADER = \"\"\"\n",
    "uniform mat4 u_model;\n",
    "uniform mat4 u_view;\n",
    "uniform mat4 u_projection;\n",
    "attribute vec3 a_position;\n",
    "attribute float a_id;\n",
    "varying float v_id;\n",
    "void main (void) {\n",
    "    v_id = a_id;\n",
    "    gl_Position = u_projection * u_view * u_model * vec4(a_position,1.0);\n",
    "}\n",
    "\"\"\"\n",
    "\n",
    "FRAG_SHADER = \"\"\"\n",
    "varying float v_id;\n",
    "void main()\n",
    "{\n",
    "    float f = fract(v_id);\n",
    "    // The second useless test is needed on OSX 10.8 (fuck)\n",
    "    if( (f > 0.0001) && (f < .9999) )\n",
    "        discard;\n",
    "    else\n",
    "        gl_FragColor = vec4(0,0,0,1);\n",
    "}\n",
    "\"\"\""
   ]
  },
  {
   "cell_type": "code",
   "execution_count": 5,
   "metadata": {
    "collapsed": true,
    "deletable": true,
    "editable": true
   },
   "outputs": [],
   "source": [
    "class Canvas(app.Canvas):\n",
    "\n",
    "    # ---------------------------------\n",
    "    def __init__(self, size=None):\n",
    "        app.Canvas.__init__(self, keys='interactive', size=size)\n",
    "\n",
    "        self.program = gloo.Program(VERT_SHADER, FRAG_SHADER)\n",
    "\n",
    "        # Set uniform and attribute\n",
    "        self.program['a_id'] = gloo.VertexBuffer(a_id)\n",
    "        self.program['a_position'] = gloo.VertexBuffer(a_position)\n",
    "\n",
    "        self.translate = 5\n",
    "        self.view = translate((0, 0, -self.translate), dtype=np.float32)\n",
    "        self.model = np.eye(4, dtype=np.float32)\n",
    "\n",
    "        gloo.set_viewport(0, 0, self.physical_size[0], self.physical_size[1])\n",
    "        self.projection = perspective(45.0, self.size[0] /\n",
    "                                      float(self.size[1]), 1.0, 1000.0)\n",
    "        self.program['u_projection'] = self.projection\n",
    "\n",
    "        self.program['u_model'] = self.model\n",
    "        self.program['u_view'] = self.view\n",
    "\n",
    "        self.theta = 0\n",
    "        self.phi = 0\n",
    "\n",
    "        self.context.set_clear_color('white')\n",
    "        self.context.set_state('translucent')\n",
    "\n",
    "        self.timer = app.Timer('auto', connect=self.on_timer, start=True)\n",
    "\n",
    "        self.show()\n",
    "\n",
    "    # ---------------------------------\n",
    "    def on_key_press(self, event):\n",
    "        if event.text == ' ':\n",
    "            if self.timer.running:\n",
    "                self.timer.stop()\n",
    "            else:\n",
    "                self.timer.start()\n",
    "\n",
    "    # ---------------------------------\n",
    "    def on_timer(self, event):\n",
    "        self.theta += .5\n",
    "        self.phi += .5\n",
    "        self.model = np.dot(rotate(self.theta, (0, 0, 1)),\n",
    "                            rotate(self.phi, (0, 1, 0)))\n",
    "        self.program['u_model'] = self.model\n",
    "        self.update()\n",
    "\n",
    "    # ---------------------------------\n",
    "    def on_resize(self, event):\n",
    "        gloo.set_viewport(0, 0, event.physical_size[0], event.physical_size[1])\n",
    "        self.projection = perspective(45.0, event.size[0] /\n",
    "                                      float(event.size[1]), 1.0, 1000.0)\n",
    "        self.program['u_projection'] = self.projection\n",
    "\n",
    "    # ---------------------------------\n",
    "    def on_mouse_wheel(self, event):\n",
    "        self.translate += event.delta[1]\n",
    "        self.translate = max(2, self.translate)\n",
    "        self.view = translate((0, 0, -self.translate))\n",
    "        self.program['u_view'] = self.view\n",
    "        self.update()\n",
    "\n",
    "    # ---------------------------------\n",
    "    def on_draw(self, event):\n",
    "        self.context.clear()\n",
    "        self.program.draw('line_strip')"
   ]
  },
  {
   "cell_type": "code",
   "execution_count": 6,
   "metadata": {
    "collapsed": false,
    "deletable": true,
    "editable": true
   },
   "outputs": [
    {
     "data": {
      "application/vnd.jupyter.widget-view+json": {
       "model_id": "80262f4c0ea140dbbf4b0553ad3fdefd"
      }
     },
     "metadata": {},
     "output_type": "display_data"
    }
   ],
   "source": [
    "c = Canvas(size=(300, 300))"
   ]
  },
  {
   "cell_type": "code",
   "execution_count": null,
   "metadata": {
    "collapsed": true,
    "deletable": true,
    "editable": true
   },
   "outputs": [],
   "source": []
  }
 ],
 "metadata": {
  "kernelspec": {
   "display_name": "Python 3",
   "language": "python",
   "name": "python3"
  },
  "language_info": {
   "codemirror_mode": {
    "name": "ipython",
    "version": 3
   },
   "file_extension": ".py",
   "mimetype": "text/x-python",
   "name": "python",
   "nbconvert_exporter": "python",
   "pygments_lexer": "ipython3",
   "version": "3.6.1"
  }
 },
 "nbformat": 4,
 "nbformat_minor": 0
}
