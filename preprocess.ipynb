{
 "cells": [
  {
   "cell_type": "code",
   "execution_count": null,
   "metadata": {
    "collapsed": true
   },
   "outputs": [],
   "source": [
    "import os\n",
    "import numpy as np\n",
    "from pathlib import Path\n",
    "from scipy.io import loadmat\n",
    "from shutil import copy\n",
    "\n",
    "import preprocess"
   ]
  },
  {
   "cell_type": "code",
   "execution_count": null,
   "metadata": {},
   "outputs": [],
   "source": [
    "def copy_files():\n",
    "    for dirpath, dirnames, filenames in os.walk(\"Data/image_02/test/labels\"):\n",
    "        for filename in [f for f in filenames if f.endswith(\".png\")]:\n",
    "            s = \"Data/image_02/test/data/\" + dirpath[-4:]\n",
    "            p = Path(s)\n",
    "            p.mkdir(exist_ok=True)\n",
    "            copy(\n",
    "                \"Data/image_02/Images/%s/%s\" % (dirpath[-4:], filename),\n",
    "                s\n",
    "            )"
   ]
  },
  {
   "cell_type": "code",
   "execution_count": null,
   "metadata": {},
   "outputs": [],
   "source": [
    "data, max_shape = preprocess.get_png_data(\"Data/image_02/trn/data/\")\n",
    "preprocess.convert_and_pad(data, max_shape)"
   ]
  }
 ],
 "metadata": {
  "kernelspec": {
   "display_name": "Python 2",
   "language": "python",
   "name": "python2"
  },
  "language_info": {
   "codemirror_mode": {
    "name": "ipython",
    "version": 2.0
   },
   "file_extension": ".py",
   "mimetype": "text/x-python",
   "name": "python",
   "nbconvert_exporter": "python",
   "pygments_lexer": "ipython2",
   "version": "2.7.6"
  }
 },
 "nbformat": 4,
 "nbformat_minor": 0
}